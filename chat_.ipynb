{
 "cells": [
  {
   "cell_type": "code",
   "execution_count": 1,
   "metadata": {},
   "outputs": [],
   "source": [
    "from langchain.chains import ConversationalRetrievalChain\n",
    "from langchain.prompts import PromptTemplate\n",
    "from langchain_community.vectorstores.faiss import FAISS\n",
    "from langchain.memory import ConversationBufferMemory\n",
    "from langchain.embeddings.openai import OpenAIEmbeddings\n",
    "from langchain_openai.chat_models import ChatOpenAI\n",
    "from langchain_openai import OpenAIEmbeddings\n",
    "import os"
   ]
  },
  {
   "cell_type": "code",
   "execution_count": 2,
   "metadata": {},
   "outputs": [],
   "source": [
    "import os\n",
    "\n",
    "def carrega_vector_store():\n",
    "    embedding_model = OpenAIEmbeddings()\n",
    "    \n",
    "    # Carregar o FAISS index salvo no diretório\n",
    "    vector_store = FAISS.load_local(\"Algorithmic_Trading\", embedding_model, allow_dangerous_deserialization=True)\n",
    "    \n",
    "    return vector_store"
   ]
  },
  {
   "cell_type": "code",
   "execution_count": 13,
   "metadata": {},
   "outputs": [],
   "source": [
    "\"\"\"def carrega_vector_store(pasta):\n",
    "    embedding_model = OpenAIEmbeddings()\n",
    "    vector_stores = []\n",
    "    \n",
    "    # Listar todos os arquivos na pasta\n",
    "    for arquivo in os.listdir(pasta):\n",
    "        caminho_arquivo = os.path.join(pasta, arquivo)\n",
    "        if caminho_arquivo:\n",
    "            try:\n",
    "\n",
    "                # Carregar o FAISS index salvo no diretório\n",
    "                caminho_arquivo = f\"vector/{arquivo}\"\n",
    "                vector_store = FAISS.load_local(caminho_arquivo, embedding_model, allow_dangerous_deserialization=True)\n",
    "                #vector_stores.append(vector_store)\n",
    "            except Exception as e:\n",
    "                print(f\"Não foi possível carregar o arquivo {arquivo}: {e}\")\n",
    "    \n",
    "    # Combinar todos os vector_stores em um só\n",
    "    if vector_store:\n",
    "        # Exemplo de combinação simples: concatenar todos os índices\n",
    "        #combined_vector_store = FAISS.concatenate(vector_stores)\n",
    "        return vector_store\n",
    "    else:\n",
    "        vector_stores.__annotations__\n",
    "        print(vector_stores.__annotations__)\"\"\""
   ]
  },
  {
   "cell_type": "code",
   "execution_count": 3,
   "metadata": {},
   "outputs": [],
   "source": [
    "# Carregar o vector_store salvo\n",
    "\n",
    "# Função para criar o chatbot com conversação e retrieval\n",
    "def cria_chatbot():\n",
    "    # Carregar o vector_store\n",
    "    vector_store = carrega_vector_store(\"vector/\")\n",
    "    \n",
    "    # Criar o retriever a partir do vector_store\n",
    "    retriever = vector_store.as_retriever(\n",
    "        search_type=\"similarity\",  # ou configure conforme sua preferência\n",
    "        search_kwargs={\"k\": 5}  # top k resultados\n",
    "    )\n",
    "\n",
    "    # Criar modelo de linguagem (LLM) OpenAI\n",
    "    chat = ChatOpenAI(model=\"gpt-3.5-turbo\")\n",
    "\n",
    "    # Criar memória de conversação\n",
    "    memory = ConversationBufferMemory(\n",
    "        return_messages=True,\n",
    "        memory_key='chat_history',\n",
    "        output_key='answer'\n",
    "    )\n",
    "\n",
    "    # Prompt de exemplo, pode ser ajustado conforme sua necessidade\n",
    "    prompt_template = \"\"\"\n",
    "    You are an AI assistant designed to help students with their questions. Use the context provided below to answer the user's questions accurately. If you do not know the answer, simply state that you do not know and refrain from making up information. Whenever possible, include references to the relevant context used to formulate your response.\n",
    "    Context: {context}\n",
    "    ----\n",
    "    Question: {question}\n",
    "    ----\n",
    "    Answer in a conversational and informative way.\n",
    "    \"\"\"\n",
    "    prompt = PromptTemplate.from_template(prompt_template)\n",
    "\n",
    "    # Criar a chain de conversação com retrieval\n",
    "    chat_chain = ConversationalRetrievalChain.from_llm(\n",
    "        llm=chat,\n",
    "        memory=memory,\n",
    "        retriever=retriever,\n",
    "        return_source_documents=True,\n",
    "        verbose=True,\n",
    "        combine_docs_chain_kwargs={'prompt': prompt}\n",
    "    )\n",
    "\n",
    "    return chat_chain\n",
    "\n"
   ]
  },
  {
   "cell_type": "code",
   "execution_count": 4,
   "metadata": {},
   "outputs": [],
   "source": [
    "import dotenv\n",
    "from dotenv import load_dotenv, find_dotenv\n",
    "\n",
    "\n",
    "_ = load_dotenv(find_dotenv())\n"
   ]
  },
  {
   "cell_type": "code",
   "execution_count": 5,
   "metadata": {},
   "outputs": [
    {
     "name": "stdout",
     "output_type": "stream",
     "text": [
      "\n",
      "\n",
      "\u001b[1m> Entering new StuffDocumentsChain chain...\u001b[0m\n",
      "\n",
      "\n",
      "\u001b[1m> Entering new LLMChain chain...\u001b[0m\n",
      "Prompt after formatting:\n",
      "\u001b[32;1m\u001b[1;3m\n",
      "    You are an AI assistant designed to help students with their questions. Use the context provided below to answer the user's questions accurately. If you do not know the answer, simply state that you do not know and refrain from making up information. Whenever possible, include references to the relevant context used to formulate your response.\n",
      "    Context: . Regime shifts can spoil everything, and a few \\nimportant historical examples will be highlighted.\\nThe choice of a software platform for backtesting is also an important \\nconsideration and needs to be tackled early on. A good choice not only will \\nvastly increase your productivity, it will also allow you to backtest the broad-\\nest possible spectrum of strategies in the broadest variety of asset classes. \\n', '\\n--- Página 20 ---\\n2\\nALGORITHMIC TRADING\\nAnd it will reduce or eliminate the chances of committing the aforemen-\\ntioned pitfalls. We will also explain why the choice of a good backtesting \\nplatform is often tied to the choice of a good automated execution platform: \\noften, the best platform combines both functions.\\n \\n■The Importance of Backtesting\\nBacktesting is the process of feeding historical data to your trading strategy \\nto see how it would have performed. The hope is that its historical perfor-\\nmance tells us what to expect for its future performance. The importance of \\nthis process is obvious if you have developed a strategy from scratch, since \\nyou would certainly want to know how it has performed. But even if you \\nread about a strategy from a publication, and you trust that the author did \\nnot lie about its stated performance, it is still imperative that you indepen-\\ndently backtest the strategy. There are several reasons for this.\\nOften, the profi tability of a strategy depends sensitively on the details \\nof implementation. For example, are the stock orders supposed to be sent \\nas market-on-open orders or as market orders just after the open? Are we \\nsupposed to send in an order for the E-mini Standard & Poor’s (S&P) 500 \\nfuture just before the 4:00 p.m. stock market closing time, or just before \\nthe 4:15 p.m. futures market closing time? Are we supposed to use the bid \\nor ask price to trigger a trade, or are we supposed to use the last price? All \\nthese details tend to be glossed over in a published article, often justifi ably \\nso lest they distract from the main idea, but they can aff ect the profi tabil-\\nity of a live-traded strategy signifi cantly. The only way to pin down these \\ndetails exactly, so as to implement them in our own automated execution \\nsystem, is to backtest the strategy ourselves. In fact, ideally, our backtest-\\ning program can be transformed into an automated execution program by \\nthe push of a button to ensure the exact implementation of details\n",
      "\n",
      ".\\n', '', '\\n--- Página 219 ---\\n201\\nI N D E X\\nAccenture, 183\\nADF (augmented Dickey-Fuller) test, 41, \\n42–44\\nAlexander Filter, 140\\nAlternative Uptick Rule, 12, 90, 92\\nAPIs (application programming interfaces) \\nfor automatic execution, 29\\nfor news-driven trading, 36\\nArbitrage\\nbetween ETF and component stocks, 96–102\\nfuture and ETF, extracting roll returns \\nthrough, 141–144\\nAsset classes supported by special-purpose \\nplatforms, 31–36\\nAugmented Dickey-Fuller (ADF) test, 41, \\n42–44\\nAutomated execution platform\\nbacktesting with, 30–31\\nchoosing, 25\\nFXone, 26–27\\nhigh-frequency trading and, 32, 34–35\\nnews-driven trading and, 35–36\\nprogramming skill and choice of, 25–29\\nAveraging-in, 48, 72–74\\nBack-adjustment methods, 14\\nBacktesting\\ncurrency arbitrage strategies, 112–113\\ndanger of data errors to, 83–84\\ndeciding not to use, 22–24\\ndividend adjustments and, 7–8\\nfutures and, 12–16, 100\\nhigh-frequency strategies, 23–24, 30, 32, \\n34–35\\nIDEs for, 29, 31\\nimportance of, 2–3\\nintermarket spread strategies, 129\\nintraday spread strategies, 15\\nleading risk indicators, 186\\nlinear mean-reverting strategies, 59–60\\nlive trading experience diverging from, \\n188–189\\npost-earnings announcement drift strategies, \\n160–161\\npredictive power of, 24–25\\nsoftware platform for, 1–2\\nstationarity tests compared to, 50\\nstatistical signifi cance of, 1, 16–22\\ntick-based strategies, 30\\nSee also Pitfalls of backtesting; Software \\nplatform for backtesting\\nBackwardation, 115–122\\nBamberger, Gerry, 89\\nBase currency, 108\\nBeckert, Walter, 41\\nBias\\ndata-snooping, 4–7, 60, 186\\nlook-ahead, 4\\nsurvivorship, 8–9, 23, 88, 183\\nBlack swan events and momentum strategies, \\n153\\nBloomberg Event-Driven Trading, 148–149\\nBollinger bands, 70–72\\nBreakout strategies, 155\\n', '201\\nI N D E X\\nAccenture, 183\\nADF (augmented Dickey-Fuller) test, 41, \\n42–44\\nAlexander Filter, 140\\nAlternative Uptick Rule, 12, 90, 92\\nAPIs (application programming interfaces) \\nfor automatic execution, 29\\nfor news-driven trading, 36\\nArbitrage\\nbetween ETF and component stocks, 96–102\\nfuture and ETF, extracting roll returns \\nthrough, 141–144\\nAsset classes supported by special-purpose \\nplatforms, 31–36\\nAugmented Dickey-Fuller (ADF) test, 41, \\n42–44\\nAutomated execution platform\\nbacktesting with, 30–31\\nchoosing, 25\\nFXone, 26–27\\nhigh-frequency trading and, 32, 34–35\\nnews-driven trading and, 35–36\\nprogramming skill and choice of, 25–29\\nAveraging-in, 48, 72–74\\nBack-adjustment\n",
      "\n",
      ". As veterans of algorithmic trading will \\nalso agree, the same theoretical strategy can result in spectacular profi ts and \\nabysmal losses, depending on the details of implementation. Hence, in this \\nbook I have lavished attention on the nitty-gritties of backtesting and some-\\ntimes live implementation of these strategies, with discussions of concepts \\nsuch as data-snooping bias, survivorship bias, primary versus consolidated \\nquotes, the venue dependence of currency quotes, the nuances of short-sale \\nconstraints, the construction of futures continuous contracts, and the use of \\nfutures closing versus settlement prices in backtests. We also highlight some \\ninstances of “regime shift” historically when even the most correct backtest \\nwill fail to predict the future returns of a strategy.\\nI have also paid attention to choosing the right software platform for \\nbacktesting and automated execution, given that MATLAB©, my favorite \\nlanguage, is no longer the only contender in this department. I will survey \\nthe state of the art in technology, for every level of programming skills, and \\nfor many diff erent budgets. In particular, we draw attention to the “inte-\\ngrated development environment” for traders, ranging from the industrial-\\nstrength platforms such as Deltix to the myriad open-source versions such \\nas TradeLink. As we will explain, the ease of switching from backtesting \\nto live trading mode is the most important virtue of such platforms. The \\nfashionable concept of “complex event processing” will also be introduced \\nin this context.\\nI covered risk and money management in my previous book, which was \\nbuilt on the Kelly formula—a formula that determines the optimal lever-\\nage and capital allocation while balancing returns versus risks. I once again \\ncover risk and money management here, still based on the Kelly formula, \\nbut tempered with my practical experience in risk management involving \\nblack swans, constant proportion portfolio insurance, and stop losses. (U.S. \\nSupreme Court Justice Robert H. Jackson could have been talking about \\nthe application of the Kelly formula when he said we should “temper its doc-\\ntrinaire logic with a little practical wisdom.”) We especially focus on fi nding \\nthe optimal leverage in realistic situations when we can no longer assume \\nGaussian distribution of returns. Also, we consider whether “risk indicators” \\nmight be a useful component of a comprehensive risk management scheme\n",
      "\n",
      "test\\nfor creating long-only portfolio, 101\\nmean reversion and, 54–58\\ntrading cross-rates and, 109\\nJudgment, importance of, 188–189\\nKahneman, Daniel\\non experts compared to algorithms, 189\\non Sports Illustrated jinx, 39\\nThinking, Fast and Slow, 7\\nKalman fi lter\\nas dynamic linear regression, 74–77, 78–82\\niterative equations of, 77–78\\nas market-making model, 82–83\\nKelly formula, 172–173\\nKeynes, John Maynard, 117\\nKibot\n",
      "\n",
      ". In science, we form a hypothesis, express it \\nas a quantitative model, and then test it against new, unseen data to see if \\nthe model is predictive. If the model failed with certain data, we try to fi nd \\nout the reasons for the failures, perhaps add certain variables to the model, \\nand try again. This is a very similar process to how we should approach \\nalgorithmic trading. Recall the ETF pair GLD versus GDX that stopped \\n', '\\n--- Página 206 ---\\n188\\nCONCLUSION\\ncointegrating in 2008 (see Chapter 4). A hypothesis was formed that had \\nto do with the high crude oil price. When oil price was added to the input \\nvariables, the cointegration model started to work again. This scientifi c pro-\\ncess is most helpful when a strategy underperforms the backtest, and we \\nwanted to know why. Instead of blindly adding more rules, more indicators, \\nto the model and hoping that they miraculously improve the model perfor-\\nmance, we should look for a fundamental reason and then quantitatively test \\nwhether this fundamental reason is valid.\\nDespite the eff orts to make the trading process scientifi c and rule based, \\nthere are still areas where subjective judgment is important. For example, \\nwhen there is a major event looming, do you trust that your model will be-\\nhave as your backtest predicted, or do you lower your leverage or even tem-\\nporarily shut down the model in anticipation? Another example is off ered \\nby the application of the Kelly formula to a portfolio of strategies. Should \\nwe allocate capital among these strategies based on the equity of the whole \\nportfolio, so that the good performance of some strategies is subsidizing \\nthe poor performance of others in the short term? Or should we apply the \\nKelly formula to each strategy on its own, so that we quickly deleverage \\nthose strategies that perform poorly recently? Mathematics tells us that the \\nformer solution is optimal, but that’s assuming the expected returns and \\nvolatilities of the strategies are unchanging. Can one really say that such ex-\\npectations are unchanged given a recent period of severe drawdown?\\n(On the fi rst judgment call, my experience has been that if your model \\nhas survived the backtest during prior stressful periods, there is no reason \\nto lower its leverage in the face of coming crisis. It is much better to start off  \\nwith a more conservative leverage during good times than to have to lower \\nit in bad ones\n",
      "    ----\n",
      "    Question: Tenho uma dúvida, voce poderia me ajudar a lembrar o que é blacktesting\n",
      "    ----\n",
      "    Answer in a conversational and informative way.\n",
      "    \u001b[0m\n",
      "\n",
      "\u001b[1m> Finished chain.\u001b[0m\n",
      "\n",
      "\u001b[1m> Finished chain.\u001b[0m\n",
      "Claro! O backtesting é o processo de alimentar dados históricos para a sua estratégia de negociação e ver como ela teria se saído. A esperança é que o desempenho histórico da estratégia nos dê uma ideia do que esperar para o seu desempenho futuro. É importante realizar o backtesting para validar o desempenho da estratégia, mesmo que seja uma estratégia que você tenha desenvolvido do zero ou tenha lido sobre em uma publicação. \n",
      "\n",
      "O backtesting é crucial porque a lucratividade de uma estratégia muitas vezes depende dos detalhes de implementação, como por exemplo, como os pedidos de compra de ações são enviados, a que horas são feitos, ou se devemos usar o preço de compra ou venda para acionar uma negociação. Estes detalhes podem afetar significativamente a lucratividade de uma estratégia. Portanto, o backtesting é essencial para entender e implementar esses detalhes de forma precisa.\n",
      "\n",
      "Além disso, o backtesting ajuda a evitar vieses de dados, como o viés de data-snooping e o viés de survivorship, que podem distorcer os resultados. É importante realizar o backtesting de forma independente para garantir a validade da estratégia.\n",
      "\n",
      "Espero que isso ajude a esclarecer o conceito de backtesting! Se tiver mais alguma dúvida, estou à disposição para ajudar.\n"
     ]
    }
   ],
   "source": [
    "# Função para interagir com o chatbot\n",
    "def conversar_com_chatbot(chat_chain, pergunta):\n",
    "    # Usar a chave correta 'question'\n",
    "    resposta = chat_chain.invoke({\n",
    "        \"question\": pergunta\n",
    "    })\n",
    "    return resposta['answer']\n",
    "\n",
    "# Exemplo de uso\n",
    "chatbot = cria_chatbot()\n",
    "pergunta = \"Tenho uma dúvida, voce poderia me ajudar a lembrar o que é blacktesting\"\n",
    "resposta = conversar_com_chatbot(chatbot, pergunta)\n",
    "print(resposta)\n"
   ]
  },
  {
   "cell_type": "code",
   "execution_count": null,
   "metadata": {},
   "outputs": [],
   "source": []
  }
 ],
 "metadata": {
  "kernelspec": {
   "display_name": ".venv",
   "language": "python",
   "name": "python3"
  },
  "language_info": {
   "codemirror_mode": {
    "name": "ipython",
    "version": 3
   },
   "file_extension": ".py",
   "mimetype": "text/x-python",
   "name": "python",
   "nbconvert_exporter": "python",
   "pygments_lexer": "ipython3",
   "version": "3.12.3"
  }
 },
 "nbformat": 4,
 "nbformat_minor": 2
}
