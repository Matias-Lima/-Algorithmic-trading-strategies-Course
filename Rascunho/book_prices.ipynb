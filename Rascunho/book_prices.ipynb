{
 "cells": [
  {
   "cell_type": "code",
   "execution_count": 4,
   "metadata": {},
   "outputs": [
    {
     "name": "stdout",
     "output_type": "stream",
     "text": [
      "Erro ao obter dados: {'status': 'NOT_AUTHORIZED', 'request_id': '5e50911de378e206d610f5f73256c266', 'message': 'You are not entitled to this data. Please upgrade your plan at https://polygon.io/pricing'}\n"
     ]
    }
   ],
   "source": [
    "import requests\n",
    "import pandas as pd\n",
    "\n",
    "# Configurações\n",
    "API_KEY = \"H4HtPfrjzfhwnlCh87QuJiuoetOwyZyv\"  # Substitua pela sua chave da API\n",
    "ticker = \"AAPL\"  # Substitua pelo ticker desejado\n",
    "date = \"2024-12-20\"  # Data do interesse no formato AAAA-MM-DD\n",
    "\n",
    "# Endpoint para obter trades\n",
    "url = f\"https://api.polygon.io/v2/ticks/stocks/trades/{ticker}/{date}?apiKey={API_KEY}\"\n",
    "\n",
    "# Requisição para obter dados\n",
    "response = requests.get(url)\n",
    "if response.status_code == 200:\n",
    "    data = response.json()\n",
    "    trades = data.get(\"results\", [])\n",
    "    # Transformar os dados em um DataFrame do Pandas\n",
    "    df = pd.DataFrame(trades)\n",
    "    print(df.head())\n",
    "    # Salvar os dados em um arquivo CSV\n",
    "    df.to_csv(f\"{ticker}_trades_{date}.csv\", index=False)\n",
    "else:\n",
    "    print(\"Erro ao obter dados:\", response.json())\n"
   ]
  },
  {
   "cell_type": "code",
   "execution_count": 7,
   "metadata": {},
   "outputs": [
    {
     "name": "stderr",
     "output_type": "stream",
     "text": [
      "[*********************100%***********************]  1 of 1 completed\n",
      "\n",
      "1 Failed download:\n",
      "['AMER3.SA']: YFPricesMissingError('$%ticker%: possibly delisted; no price data found  (1m 2023-12-20 -> 2024-12-21) (Yahoo error = \"1m data not available for startTime=1703041200 and endTime=1734750000. Only 8 days worth of 1m granularity data are allowed to be fetched per request.\")')\n"
     ]
    },
    {
     "name": "stdout",
     "output_type": "stream",
     "text": [
      "Empty DataFrame\n",
      "Columns: [Open, High, Low, Close, Adj Close, Volume]\n",
      "Index: []\n"
     ]
    },
    {
     "data": {
      "image/png": "[encoded data removed]",
      "text/plain": [
       "<Figure size 1000x500 with 1 Axes>"
      ]
     },
     "metadata": {},
     "output_type": "display_data"
    }
   ],
   "source": [
    "import yfinance as yf\n",
    "import pandas as pd\n",
    "import matplotlib.pyplot as plt\n",
    "\n",
    "# Define the stock ticker and timeframe\n",
    "ticker = \"AMER3.SA\"  # Replace with the desired stock ticker\n",
    "start_date = \"2023-12-20\"  # Date of interest\n",
    "end_date = \"2024-12-21\"    # Next day to include full data for the chosen date\n",
    "\n",
    "# Fetch historical data\n",
    "stock_data = yf.download(ticker, start=start_date, end=end_date, interval=\"1m\")\n",
    "\n",
    "# Display the data\n",
    "print(stock_data.head())\n",
    "\n",
    "# Plot the closing price for visualization\n",
    "stock_data['Close'].plot(title=f\"{ticker} Intraday Prices\", figsize=(10, 5))\n",
    "plt.xlabel(\"Time\")\n",
    "plt.ylabel(\"Price\")\n",
    "plt.show()\n"
   ]
  }
 ],
 "metadata": {
  "kernelspec": {
   "display_name": ".venv",
   "language": "python",
   "name": "python3"
  },
  "language_info": {
   "codemirror_mode": {
    "name": "ipython",
    "version": 3
   },
   "file_extension": ".py",
   "mimetype": "text/x-python",
   "name": "python",
   "nbconvert_exporter": "python",
   "pygments_lexer": "ipython3",
   "version": "3.12.3"
  }
 },
 "nbformat": 4,
 "nbformat_minor": 2
}
